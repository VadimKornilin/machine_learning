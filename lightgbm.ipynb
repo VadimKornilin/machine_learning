{
 "cells": [
  {
   "cell_type": "code",
   "execution_count": 3,
   "metadata": {},
   "outputs": [],
   "source": [
    "import pandas as pd\n",
    "from lightgbm import LGBMClassifier"
   ]
  },
  {
   "cell_type": "code",
   "execution_count": null,
   "metadata": {},
   "outputs": [],
   "source": [
    "clf = LGBMClassifier(\n",
    "    objective=\"multiclass\",\n",
    "    n_estimators=10,\n",
    "    num_class=9,\n",
    "    seed=42,\n",
    "    cat_feature=[0, 1, 2], # Нельзя передать список названий столбцов\n",
    ")\n",
    "\n",
    "clf.fit(\n",
    "    X_train,\n",
    "    y_train,\n",
    "    eval_set=[\n",
    "        (X_test, y_test),\n",
    "    ],\n",
    ")"
   ]
  },
  {
   "cell_type": "code",
   "execution_count": null,
   "metadata": {},
   "outputs": [],
   "source": [
    "import lightgbm as lgb\n",
    "import optuna\n",
    "from sklearn.metrics import roc_auc_score\n",
    "from sklearn.model_selection import train_test_split\n",
    "from lightgbm import LGBMClassifier\n",
    "\n",
    "# Пример данных (замените на свои)\n",
    "# X, y = ...\n",
    "\n",
    "# Разделение данных на обучающую и тестовую выборки\n",
    "X_train, X_valid, y_train, y_valid = train_test_split(X, y, test_size=0.2, random_state=42)\n",
    "\n",
    "# Оптимизация гиперпараметров\n",
    "def objective(trial):\n",
    "    # Гиперпараметры для DART\n",
    "    param = {\n",
    "        \"boosting_type\": \"dart\",\n",
    "        \"objective\": \"binary\",\n",
    "        \"metric\": \"auc\",\n",
    "        \"n_estimators\": trial.suggest_int(\"n_estimators\", 100, 1000),\n",
    "        \"learning_rate\": trial.suggest_float(\"learning_rate\", 0.01, 0.3, log=True),\n",
    "        \"num_leaves\": trial.suggest_int(\"num_leaves\", 20, 300),\n",
    "        \"max_depth\": trial.suggest_int(\"max_depth\", 3, 15),\n",
    "        \"min_child_samples\": trial.suggest_int(\"min_child_samples\", 10, 500),\n",
    "        \"reg_alpha\": trial.suggest_float(\"lambda_l1\", 1e-8, 10.0, log=True),\n",
    "        \"reg_lambda\": trial.suggest_float(\"lambda_l2\", 1e-8, 10.0, log=True),\n",
    "        \"bagging_fraction\": trial.suggest_float(\"bagging_fraction\", 0.4, 1.0),\n",
    "        \"bagging_freq\": trial.suggest_int(\"bagging_freq\", 1, 7),\n",
    "        \"feature_fraction\": trial.suggest_float(\"feature_fraction\", 0.4, 1.0),\n",
    "        \"drop_rate\": trial.suggest_float(\"drop_rate\", 0.1, 0.5),\n",
    "        \"skip_drop\": trial.suggest_float(\"skip_drop\", 0.1, 0.5),\n",
    "        \"random_state\": 42\n",
    "    }\n",
    "\n",
    "    # Инициализация модели\n",
    "    model = LGBMClassifier(**param)\n",
    "\n",
    "    # Обучение модели\n",
    "    model.fit(\n",
    "        X_train, y_train,\n",
    "        eval_set=[(X_valid, y_valid)],\n",
    "        eval_metric=\"auc\",\n",
    "        early_stopping_rounds=50,\n",
    "        verbose=False\n",
    "    )\n",
    "\n",
    "    # Предсказания и метрика\n",
    "    preds = model.predict_proba(X_valid)[:, 1]  # Вероятности для положительного класса\n",
    "    auc = roc_auc_score(y_valid, preds)\n",
    "    return auc\n",
    "\n",
    "# Создание и запуск Optuna\n",
    "study = optuna.create_study(direction=\"maximize\")\n",
    "study.optimize(objective, n_trials=50)\n",
    "\n",
    "# Лучшие гиперпараметры\n",
    "print(\"Best trial:\")\n",
    "print(study.best_trial.params)\n"
   ]
  }
 ],
 "metadata": {
  "kernelspec": {
   "display_name": ".venv",
   "language": "python",
   "name": "python3"
  },
  "language_info": {
   "codemirror_mode": {
    "name": "ipython",
    "version": 3
   },
   "file_extension": ".py",
   "mimetype": "text/x-python",
   "name": "python",
   "nbconvert_exporter": "python",
   "pygments_lexer": "ipython3",
   "version": "3.11.4"
  }
 },
 "nbformat": 4,
 "nbformat_minor": 2
}
