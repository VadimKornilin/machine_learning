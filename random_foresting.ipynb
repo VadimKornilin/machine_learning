{
 "cells": [
  {
   "cell_type": "code",
   "execution_count": null,
   "metadata": {},
   "outputs": [],
   "source": [
    "import optuna\n",
    "from sklearn.ensemble import RandomForestClassifier\n",
    "from sklearn.model_selection import train_test_split\n",
    "from sklearn.metrics import f1_score\n",
    "import numpy as np\n",
    "\n",
    "# Предполагаем, что у вас уже есть данные X и y\n",
    "# Разделим данные на трейн и тест\n",
    "X_train, X_test, y_train, y_test = train_test_split(X, y, test_size=0.2, random_state=42, stratify=y)\n",
    "\n",
    "# Функция для оптимизации\n",
    "def objective(trial):\n",
    "    # Гиперпараметры, которые будем настраивать\n",
    "    n_estimators = trial.suggest_int(\"n_estimators\", 50, 500)\n",
    "    max_depth = trial.suggest_int(\"max_depth\", 5, 50)\n",
    "    min_samples_split = trial.suggest_int(\"min_samples_split\", 2, 20)\n",
    "    min_samples_leaf = trial.suggest_int(\"min_samples_leaf\", 1, 20)\n",
    "    max_features = trial.suggest_categorical(\"max_features\", [\"sqrt\", \"log2\", None])\n",
    "    \n",
    "    # Создаем модель с текущими гиперпараметрами\n",
    "    rf = RandomForestClassifier(\n",
    "        n_estimators=n_estimators,\n",
    "        max_depth=max_depth,\n",
    "        min_samples_split=min_samples_split,\n",
    "        min_samples_leaf=min_samples_leaf,\n",
    "        max_features=max_features,\n",
    "        random_state=42,\n",
    "        class_weight=\"balanced\"  # Учитываем дисбаланс классов\n",
    "    )\n",
    "    \n",
    "    # Обучаем модель\n",
    "    rf.fit(X_train, y_train)\n",
    "    \n",
    "    # Предсказания на тестовой выборке\n",
    "    y_pred = rf.predict(X_test)\n",
    "    \n",
    "    # Оцениваем метрику (например, F1-метрику)\n",
    "    f1 = f1_score(y_test, y_pred, average=\"weighted\")  # Учитываем дисбаланс\n",
    "    \n",
    "    return f1\n",
    "\n",
    "# Запуск Optuna\n",
    "study = optuna.create_study(direction=\"maximize\")\n",
    "study.optimize(objective, n_trials=50)\n",
    "\n",
    "# Лучшие параметры\n",
    "print(\"Best trial:\")\n",
    "print(study.best_trial)\n",
    "print(\"Best params:\")\n",
    "print(study.best_params)\n",
    "\n",
    "# Используем лучшие параметры для финальной модели\n",
    "best_params = study.best_params\n",
    "final_rf = RandomForestClassifier(**best_params, random_state=42, class_weight=\"balanced\")\n",
    "final_rf.fit(X_train, y_train)\n"
   ]
  },
  {
   "cell_type": "code",
   "execution_count": null,
   "metadata": {},
   "outputs": [],
   "source": []
  }
 ],
 "metadata": {
  "kernelspec": {
   "display_name": ".venv",
   "language": "python",
   "name": "python3"
  },
  "language_info": {
   "codemirror_mode": {
    "name": "ipython",
    "version": 3
   },
   "file_extension": ".py",
   "mimetype": "text/x-python",
   "name": "python",
   "nbconvert_exporter": "python",
   "pygments_lexer": "ipython3",
   "version": "3.11.4"
  }
 },
 "nbformat": 4,
 "nbformat_minor": 2
}
